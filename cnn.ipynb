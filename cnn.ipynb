{
 "cells": [
  {
   "cell_type": "code",
   "execution_count": 2,
   "metadata": {},
   "outputs": [],
   "source": [
    "# ! pip install tensorflow  tensorflow-gpu"
   ]
  },
  {
   "cell_type": "code",
   "execution_count": 3,
   "metadata": {},
   "outputs": [],
   "source": [
    "# ! pip list"
   ]
  },
  {
   "cell_type": "code",
   "execution_count": 4,
   "metadata": {},
   "outputs": [],
   "source": [
    "import tensorflow as tf\n",
    "import os"
   ]
  },
  {
   "cell_type": "code",
   "execution_count": 5,
   "metadata": {},
   "outputs": [],
   "source": [
    "# to avoid OOM errors by setting GPU Memory consumption Growth\n",
    "# gpus=tf.config.experimental.list_physical_devices(\"CPU\")"
   ]
  },
  {
   "cell_type": "code",
   "execution_count": 6,
   "metadata": {},
   "outputs": [],
   "source": [
    "# len(gpus)"
   ]
  },
  {
   "cell_type": "markdown",
   "metadata": {},
   "source": [
    "REMOVE DODGY IMAGE"
   ]
  },
  {
   "cell_type": "code",
   "execution_count": 7,
   "metadata": {},
   "outputs": [],
   "source": [
    "import cv2\n",
    "import imghdr"
   ]
  },
  {
   "cell_type": "code",
   "execution_count": 8,
   "metadata": {},
   "outputs": [],
   "source": [
    "data_dir=\"img\""
   ]
  },
  {
   "cell_type": "code",
   "execution_count": 9,
   "metadata": {},
   "outputs": [],
   "source": [
    "image_ext=[\"jpeg\",\"jpg\",\"png\",\"bmp\"]"
   ]
  },
  {
   "cell_type": "code",
   "execution_count": 10,
   "metadata": {},
   "outputs": [
    {
     "data": {
      "text/plain": [
       "['happy people', 'sad people']"
      ]
     },
     "execution_count": 10,
     "metadata": {},
     "output_type": "execute_result"
    }
   ],
   "source": [
    "os.listdir(data_dir)"
   ]
  },
  {
   "cell_type": "code",
   "execution_count": 11,
   "metadata": {},
   "outputs": [],
   "source": [
    "# os.listdir(os.path.join(data_dir,\"happy people\"))"
   ]
  },
  {
   "cell_type": "code",
   "execution_count": 12,
   "metadata": {},
   "outputs": [],
   "source": [
    "for classes in os.listdir(data_dir):\n",
    "    for image in os.listdir(os.path.join(data_dir,classes)):\n",
    "        img_path=os.path.join(data_dir,classes,image)\n",
    "        try:\n",
    "            im=cv2.imread(img_path)\n",
    "            tip=imghdr.what(img_path)\n",
    "            if tip not in image_ext:\n",
    "                print(tip)\n",
    "                print(f\"image not in ext list{img_path}\")\n",
    "                os.remove(img_path)\n",
    "                \n",
    "        except Exception as e:\n",
    "            print(\"issue\")"
   ]
  },
  {
   "cell_type": "code",
   "execution_count": 13,
   "metadata": {},
   "outputs": [
    {
     "data": {
      "text/plain": [
       "<function tensorflow.python.data.ops.dataset_ops.DatasetV2.list_files(file_pattern, shuffle=None, seed=None, name=None) -> 'DatasetV2'>"
      ]
     },
     "execution_count": 13,
     "metadata": {},
     "output_type": "execute_result"
    }
   ],
   "source": [
    "tf.data.Dataset.list_files"
   ]
  },
  {
   "cell_type": "code",
   "execution_count": 14,
   "metadata": {},
   "outputs": [],
   "source": [
    "import numpy as np\n",
    "import matplotlib.pyplot as plt"
   ]
  },
  {
   "cell_type": "code",
   "execution_count": 15,
   "metadata": {},
   "outputs": [
    {
     "name": "stdout",
     "output_type": "stream",
     "text": [
      "Found 329 files belonging to 2 classes.\n"
     ]
    }
   ],
   "source": [
    "data=tf.keras.utils.image_dataset_from_directory(\"img\")\n"
   ]
  },
  {
   "cell_type": "code",
   "execution_count": 16,
   "metadata": {},
   "outputs": [],
   "source": [
    "data_iter=data.as_numpy_iterator()"
   ]
  },
  {
   "cell_type": "code",
   "execution_count": 17,
   "metadata": {},
   "outputs": [],
   "source": [
    "# to get another batch of data from iterator\n",
    "batch=data_iter.next()"
   ]
  },
  {
   "cell_type": "code",
   "execution_count": 18,
   "metadata": {},
   "outputs": [
    {
     "data": {
      "text/plain": [
       "array([[[[169.15234   , 143.07617   ,  82.10156   ],\n",
       "         [175.68555   , 146.45703   ,  86.38086   ],\n",
       "         [185.52344   , 152.76172   ,  91.634766  ],\n",
       "         ...,\n",
       "         [ 68.61914   ,  27.253906  ,   2.8730469 ],\n",
       "         [ 69.        ,  27.        ,   3.        ],\n",
       "         [ 68.02539   ,  26.02539   ,   2.0253906 ]],\n",
       "\n",
       "        [[169.15234   , 143.07617   ,  82.10156   ],\n",
       "         [175.68555   , 146.45703   ,  86.38086   ],\n",
       "         [185.52344   , 152.76172   ,  91.634766  ],\n",
       "         ...,\n",
       "         [ 68.09906   ,  27.773983  ,   2.8730469 ],\n",
       "         [ 68.4043    ,  26.495049  ,   2.4496727 ],\n",
       "         [ 68.01027   ,  26.010265  ,   2.0102654 ]],\n",
       "\n",
       "        [[169.14406   , 143.72852   ,  82.427734  ],\n",
       "         [175.38422   , 147.10938   ,  86.70703   ],\n",
       "         [185.48203   , 153.37265   ,  91.96094   ],\n",
       "         ...,\n",
       "         [ 67.74609   ,  28.126953  ,   2.5054665 ],\n",
       "         [ 67.69867   ,  26.45367   ,   1.75      ],\n",
       "         [ 67.991714  ,  26.008282  ,   1.6738281 ]],\n",
       "\n",
       "        ...,\n",
       "\n",
       "        [[116.        , 140.00829   , 139.98343   ],\n",
       "         [116.228516  , 140.3775    , 139.29633   ],\n",
       "         [119.12695   , 141.        , 138.33438   ],\n",
       "         ...,\n",
       "         [102.9832    ,  94.40819   ,  54.799984  ],\n",
       "         [102.501724  ,  90.73024   ,  52.604378  ],\n",
       "         [ 96.817345  ,  81.89352   ,  49.402344  ]],\n",
       "\n",
       "        [[115.60597   , 140.39403   , 140.78806   ],\n",
       "         [116.228516  , 140.07617   , 139.92383   ],\n",
       "         [119.12695   , 140.94867   , 138.7218    ],\n",
       "         ...,\n",
       "         [ 97.94686   ,  89.75632   ,  51.088577  ],\n",
       "         [100.27421   ,  89.65402   ,  51.20435   ],\n",
       "         [ 96.691864  ,  82.58689   ,  48.66161   ]],\n",
       "\n",
       "        [[115.02539   , 140.97461   , 141.94922   ],\n",
       "         [116.228516  , 140.07617   , 139.92383   ],\n",
       "         [119.12695   , 140.87305   , 138.87305   ],\n",
       "         ...,\n",
       "         [ 92.74609   ,  85.        ,  46.634766  ],\n",
       "         [ 97.61914   ,  88.69531   ,  49.695312  ],\n",
       "         [ 96.05078   ,  83.15234   ,  48.05078   ]]],\n",
       "\n",
       "\n",
       "       [[[ 44.646423  ,  45.646423  ,  39.646423  ],\n",
       "         [ 55.982727  ,  56.982727  ,  50.982727  ],\n",
       "         [ 50.187073  ,  51.187073  ,  45.187073  ],\n",
       "         ...,\n",
       "         [118.        , 133.        , 104.        ],\n",
       "         [119.        , 134.        , 105.        ],\n",
       "         [119.        , 133.        , 107.        ]],\n",
       "\n",
       "        [[ 41.878174  ,  42.878174  ,  36.878174  ],\n",
       "         [ 36.205566  ,  37.205566  ,  31.205566  ],\n",
       "         [ 48.158813  ,  49.158813  ,  43.158813  ],\n",
       "         ...,\n",
       "         [119.50781   , 134.50781   , 105.50781   ],\n",
       "         [119.        , 134.        , 105.        ],\n",
       "         [120.50781   , 134.50781   , 108.50781   ]],\n",
       "\n",
       "        [[ 37.417236  ,  38.417236  ,  32.417236  ],\n",
       "         [ 37.211365  ,  38.211365  ,  32.211365  ],\n",
       "         [ 38.301453  ,  39.301453  ,  33.301453  ],\n",
       "         ...,\n",
       "         [120.02667   , 135.02667   , 106.02667   ],\n",
       "         [120.        , 135.        , 106.        ],\n",
       "         [121.        , 135.        , 109.        ]],\n",
       "\n",
       "        ...,\n",
       "\n",
       "        [[ 34.        ,  34.        ,  34.        ],\n",
       "         [ 34.        ,  34.        ,  34.        ],\n",
       "         [ 34.        ,  34.        ,  34.        ],\n",
       "         ...,\n",
       "         [ 34.        ,  34.        ,  34.        ],\n",
       "         [ 34.        ,  34.        ,  34.        ],\n",
       "         [ 34.        ,  34.        ,  34.        ]],\n",
       "\n",
       "        [[ 34.        ,  34.        ,  34.        ],\n",
       "         [ 34.        ,  34.        ,  34.        ],\n",
       "         [ 34.        ,  34.        ,  34.        ],\n",
       "         ...,\n",
       "         [ 34.        ,  34.        ,  34.        ],\n",
       "         [ 34.        ,  34.        ,  34.        ],\n",
       "         [ 34.        ,  34.        ,  34.        ]],\n",
       "\n",
       "        [[ 34.        ,  34.        ,  34.        ],\n",
       "         [ 34.        ,  34.        ,  34.        ],\n",
       "         [ 34.        ,  34.        ,  34.        ],\n",
       "         ...,\n",
       "         [ 34.        ,  34.        ,  34.        ],\n",
       "         [ 34.        ,  34.        ,  34.        ],\n",
       "         [ 34.        ,  34.        ,  34.        ]]],\n",
       "\n",
       "\n",
       "       [[[195.        , 181.        , 146.        ],\n",
       "         [195.11133   , 181.11133   , 146.11133   ],\n",
       "         [196.        , 182.        , 147.        ],\n",
       "         ...,\n",
       "         [134.6289    ,  86.62891   ,  66.072266  ],\n",
       "         [134.11133   ,  87.        ,  67.        ],\n",
       "         [134.        ,  87.        ,  67.        ]],\n",
       "\n",
       "        [[195.57227   , 181.57227   , 146.57227   ],\n",
       "         [195.61989   , 181.61989   , 146.61989   ],\n",
       "         [196.10619   , 182.10619   , 147.10619   ],\n",
       "         ...,\n",
       "         [134.84128   ,  86.84127   ,  66.28463   ],\n",
       "         [134.11133   ,  87.        ,  67.        ],\n",
       "         [133.44897   ,  86.448975  ,  66.448975  ]],\n",
       "\n",
       "        [[196.28711   , 182.28711   , 147.28711   ],\n",
       "         [196.28711   , 182.28711   , 147.28711   ],\n",
       "         [196.47266   , 182.47266   , 147.47266   ],\n",
       "         ...,\n",
       "         [134.97925   ,  86.97925   ,  66.42261   ],\n",
       "         [133.82422   ,  86.71289   ,  66.71289   ],\n",
       "         [132.75      ,  85.75      ,  65.75      ]],\n",
       "\n",
       "        ...,\n",
       "\n",
       "        [[208.28711   , 208.28711   , 182.28711   ],\n",
       "         [208.25514   , 208.25514   , 182.25514   ],\n",
       "         [208.        , 208.        , 182.        ],\n",
       "         ...,\n",
       "         [ 33.        ,  33.        ,  33.        ],\n",
       "         [ 33.        ,  33.        ,  33.        ],\n",
       "         [ 33.        ,  33.        ,  33.        ]],\n",
       "\n",
       "        [[208.        , 208.        , 182.        ],\n",
       "         [208.        , 208.        , 182.        ],\n",
       "         [207.92064   , 207.92064   , 181.92064   ],\n",
       "         ...,\n",
       "         [ 33.        ,  33.        ,  33.        ],\n",
       "         [ 33.        ,  33.        ,  33.        ],\n",
       "         [ 33.        ,  33.        ,  33.        ]],\n",
       "\n",
       "        [[208.        , 208.        , 182.        ],\n",
       "         [208.        , 208.        , 182.        ],\n",
       "         [207.81445   , 207.81445   , 181.81445   ],\n",
       "         ...,\n",
       "         [ 33.        ,  33.        ,  33.        ],\n",
       "         [ 33.        ,  33.        ,  33.        ],\n",
       "         [ 33.        ,  33.        ,  33.        ]]],\n",
       "\n",
       "\n",
       "       [[[ 12.        ,   5.        ,   0.        ],\n",
       "         [ 12.        ,   5.        ,   0.        ],\n",
       "         [ 12.980469  ,   4.0195312 ,   0.        ],\n",
       "         ...,\n",
       "         [  1.        ,   0.        ,   0.        ],\n",
       "         [  1.        ,   0.        ,   0.        ],\n",
       "         [  1.        ,   0.        ,   0.        ]],\n",
       "\n",
       "        [[ 12.        ,   5.        ,   0.        ],\n",
       "         [ 12.        ,   5.        ,   0.        ],\n",
       "         [ 12.980469  ,   4.0195312 ,   0.        ],\n",
       "         ...,\n",
       "         [  1.6472626 ,   0.6472626 ,   0.        ],\n",
       "         [  1.        ,   0.        ,   0.        ],\n",
       "         [  1.        ,   0.        ,   0.        ]],\n",
       "\n",
       "        [[ 12.        ,   5.        ,   0.        ],\n",
       "         [ 12.        ,   5.        ,   0.        ],\n",
       "         [ 12.980469  ,   4.0195312 ,   0.        ],\n",
       "         ...,\n",
       "         [  1.9889374 ,   0.9889374 ,   0.        ],\n",
       "         [  1.4285126 ,   0.42851257,   0.        ],\n",
       "         [  1.        ,   0.        ,   0.        ]],\n",
       "\n",
       "        ...,\n",
       "\n",
       "        [[ 34.        ,  34.        ,  34.        ],\n",
       "         [ 34.        ,  34.        ,  34.        ],\n",
       "         [ 33.574875  ,  33.574875  ,  33.574875  ],\n",
       "         ...,\n",
       "         [ 33.        ,  33.        ,  33.        ],\n",
       "         [ 33.        ,  33.        ,  33.        ],\n",
       "         [ 33.        ,  33.        ,  33.        ]],\n",
       "\n",
       "        [[ 34.339844  ,  34.339844  ,  34.339844  ],\n",
       "         [ 34.339844  ,  34.339844  ,  34.339844  ],\n",
       "         [ 34.006638  ,  34.006638  ,  34.006638  ],\n",
       "         ...,\n",
       "         [ 33.        ,  33.        ,  33.        ],\n",
       "         [ 33.        ,  33.        ,  33.        ],\n",
       "         [ 33.        ,  33.        ,  33.        ]],\n",
       "\n",
       "        [[ 35.        ,  35.        ,  35.        ],\n",
       "         [ 35.        ,  35.        ,  35.        ],\n",
       "         [ 34.01953   ,  34.01953   ,  34.01953   ],\n",
       "         ...,\n",
       "         [ 33.        ,  33.        ,  33.        ],\n",
       "         [ 33.        ,  33.        ,  33.        ],\n",
       "         [ 33.        ,  33.        ,  33.        ]]]], dtype=float32)"
      ]
     },
     "execution_count": 18,
     "metadata": {},
     "output_type": "execute_result"
    }
   ],
   "source": [
    "batch[0][:4]"
   ]
  },
  {
   "cell_type": "code",
   "execution_count": 19,
   "metadata": {},
   "outputs": [],
   "source": [
    "fig,ax=plt.subplots(ncols=4,figsize=(20,20))\n",
    "for idx,img in enumerate(batch[0][:4]):\n",
    "    ax[idx].imshow(img.astype(int))\n",
    "    ax[idx].title.set_text(batch[1][idx])"
   ]
  },
  {
   "cell_type": "markdown",
   "metadata": {},
   "source": [
    "PREPROSSING\n"
   ]
  },
  {
   "cell_type": "code",
   "execution_count": 20,
   "metadata": {},
   "outputs": [],
   "source": [
    "#sclale data\n",
    "s_data=data.map(lambda x,y:(x/255,y))"
   ]
  },
  {
   "cell_type": "code",
   "execution_count": 21,
   "metadata": {},
   "outputs": [],
   "source": [
    "# converting batches of data to list\n"
   ]
  },
  {
   "cell_type": "code",
   "execution_count": null,
   "metadata": {},
   "outputs": [],
   "source": []
  },
  {
   "cell_type": "code",
   "execution_count": 22,
   "metadata": {},
   "outputs": [
    {
     "data": {
      "text/plain": [
       "11"
      ]
     },
     "execution_count": 22,
     "metadata": {},
     "output_type": "execute_result"
    }
   ],
   "source": [
    "len(data)"
   ]
  },
  {
   "cell_type": "markdown",
   "metadata": {},
   "source": []
  },
  {
   "cell_type": "code",
   "execution_count": 23,
   "metadata": {},
   "outputs": [],
   "source": [
    "train_size=int(len(s_data)*.7)\n",
    "val_size=int(len(s_data)*.2)\n",
    "test_size=int(len(s_data)*.1)"
   ]
  },
  {
   "cell_type": "code",
   "execution_count": 24,
   "metadata": {},
   "outputs": [],
   "source": [
    "train=s_data.take(train_size)\n",
    "val=s_data.skip(train_size).take(val_size)\n",
    "test=s_data.skip(train_size).skip(val_size).take(test_size)"
   ]
  },
  {
   "cell_type": "code",
   "execution_count": 25,
   "metadata": {},
   "outputs": [],
   "source": [
    "from tensorflow.keras.models import Sequential\n",
    "from tensorflow.keras.layers import Conv2D, MaxPooling2D,Dense,Flatten,Dropout"
   ]
  },
  {
   "cell_type": "code",
   "execution_count": 26,
   "metadata": {},
   "outputs": [],
   "source": [
    "model=Sequential()"
   ]
  },
  {
   "cell_type": "code",
   "execution_count": 27,
   "metadata": {},
   "outputs": [
    {
     "name": "stderr",
     "output_type": "stream",
     "text": [
      "C:\\Users\\chand\\AppData\\Roaming\\Python\\Python310\\site-packages\\keras\\src\\layers\\convolutional\\base_conv.py:99: UserWarning: Do not pass an `input_shape`/`input_dim` argument to a layer. When using Sequential models, prefer using an `Input(shape)` object as the first layer in the model instead.\n",
      "  super().__init__(\n"
     ]
    }
   ],
   "source": [
    "model.add(Conv2D(16,(3,3),1,activation='relu',input_shape=(256,256,3)))\n",
    "model.add(MaxPooling2D())\n",
    "\n",
    "model.add(Conv2D(16,(3,3),1,activation='relu'))\n",
    "model.add(MaxPooling2D())\n",
    "\n",
    "model.add(Conv2D(16,(3,3),1,activation='relu'))\n",
    "model.add(MaxPooling2D())\n",
    "\n",
    "model.add(Flatten())\n",
    "\n",
    "model.add(Dense(256,activation='relu'))\n",
    "model.add(Dense(1,activation='sigmoid'))"
   ]
  },
  {
   "cell_type": "code",
   "execution_count": 28,
   "metadata": {},
   "outputs": [],
   "source": [
    "model.compile('adam',loss=tf._losses.BinaryCrossentropy(),metrics=['accuracy'])"
   ]
  },
  {
   "cell_type": "code",
   "execution_count": 29,
   "metadata": {},
   "outputs": [
    {
     "data": {
      "text/html": [
       "<pre style=\"white-space:pre;overflow-x:auto;line-height:normal;font-family:Menlo,'DejaVu Sans Mono',consolas,'Courier New',monospace\"><span style=\"font-weight: bold\">Model: \"sequential\"</span>\n",
       "</pre>\n"
      ],
      "text/plain": [
       "\u001b[1mModel: \"sequential\"\u001b[0m\n"
      ]
     },
     "metadata": {},
     "output_type": "display_data"
    },
    {
     "data": {
      "text/html": [
       "<pre style=\"white-space:pre;overflow-x:auto;line-height:normal;font-family:Menlo,'DejaVu Sans Mono',consolas,'Courier New',monospace\">┏━━━━━━━━━━━━━━━━━━━━━━━━━━━━━━━━━┳━━━━━━━━━━━━━━━━━━━━━━━━┳━━━━━━━━━━━━━━━┓\n",
       "┃<span style=\"font-weight: bold\"> Layer (type)                    </span>┃<span style=\"font-weight: bold\"> Output Shape           </span>┃<span style=\"font-weight: bold\">       Param # </span>┃\n",
       "┡━━━━━━━━━━━━━━━━━━━━━━━━━━━━━━━━━╇━━━━━━━━━━━━━━━━━━━━━━━━╇━━━━━━━━━━━━━━━┩\n",
       "│ conv2d (<span style=\"color: #0087ff; text-decoration-color: #0087ff\">Conv2D</span>)                 │ (<span style=\"color: #00d7ff; text-decoration-color: #00d7ff\">None</span>, <span style=\"color: #00af00; text-decoration-color: #00af00\">254</span>, <span style=\"color: #00af00; text-decoration-color: #00af00\">254</span>, <span style=\"color: #00af00; text-decoration-color: #00af00\">16</span>)   │           <span style=\"color: #00af00; text-decoration-color: #00af00\">448</span> │\n",
       "├─────────────────────────────────┼────────────────────────┼───────────────┤\n",
       "│ max_pooling2d (<span style=\"color: #0087ff; text-decoration-color: #0087ff\">MaxPooling2D</span>)    │ (<span style=\"color: #00d7ff; text-decoration-color: #00d7ff\">None</span>, <span style=\"color: #00af00; text-decoration-color: #00af00\">127</span>, <span style=\"color: #00af00; text-decoration-color: #00af00\">127</span>, <span style=\"color: #00af00; text-decoration-color: #00af00\">16</span>)   │             <span style=\"color: #00af00; text-decoration-color: #00af00\">0</span> │\n",
       "├─────────────────────────────────┼────────────────────────┼───────────────┤\n",
       "│ conv2d_1 (<span style=\"color: #0087ff; text-decoration-color: #0087ff\">Conv2D</span>)               │ (<span style=\"color: #00d7ff; text-decoration-color: #00d7ff\">None</span>, <span style=\"color: #00af00; text-decoration-color: #00af00\">125</span>, <span style=\"color: #00af00; text-decoration-color: #00af00\">125</span>, <span style=\"color: #00af00; text-decoration-color: #00af00\">16</span>)   │         <span style=\"color: #00af00; text-decoration-color: #00af00\">2,320</span> │\n",
       "├─────────────────────────────────┼────────────────────────┼───────────────┤\n",
       "│ max_pooling2d_1 (<span style=\"color: #0087ff; text-decoration-color: #0087ff\">MaxPooling2D</span>)  │ (<span style=\"color: #00d7ff; text-decoration-color: #00d7ff\">None</span>, <span style=\"color: #00af00; text-decoration-color: #00af00\">62</span>, <span style=\"color: #00af00; text-decoration-color: #00af00\">62</span>, <span style=\"color: #00af00; text-decoration-color: #00af00\">16</span>)     │             <span style=\"color: #00af00; text-decoration-color: #00af00\">0</span> │\n",
       "├─────────────────────────────────┼────────────────────────┼───────────────┤\n",
       "│ conv2d_2 (<span style=\"color: #0087ff; text-decoration-color: #0087ff\">Conv2D</span>)               │ (<span style=\"color: #00d7ff; text-decoration-color: #00d7ff\">None</span>, <span style=\"color: #00af00; text-decoration-color: #00af00\">60</span>, <span style=\"color: #00af00; text-decoration-color: #00af00\">60</span>, <span style=\"color: #00af00; text-decoration-color: #00af00\">16</span>)     │         <span style=\"color: #00af00; text-decoration-color: #00af00\">2,320</span> │\n",
       "├─────────────────────────────────┼────────────────────────┼───────────────┤\n",
       "│ max_pooling2d_2 (<span style=\"color: #0087ff; text-decoration-color: #0087ff\">MaxPooling2D</span>)  │ (<span style=\"color: #00d7ff; text-decoration-color: #00d7ff\">None</span>, <span style=\"color: #00af00; text-decoration-color: #00af00\">30</span>, <span style=\"color: #00af00; text-decoration-color: #00af00\">30</span>, <span style=\"color: #00af00; text-decoration-color: #00af00\">16</span>)     │             <span style=\"color: #00af00; text-decoration-color: #00af00\">0</span> │\n",
       "├─────────────────────────────────┼────────────────────────┼───────────────┤\n",
       "│ flatten (<span style=\"color: #0087ff; text-decoration-color: #0087ff\">Flatten</span>)               │ (<span style=\"color: #00d7ff; text-decoration-color: #00d7ff\">None</span>, <span style=\"color: #00af00; text-decoration-color: #00af00\">14400</span>)          │             <span style=\"color: #00af00; text-decoration-color: #00af00\">0</span> │\n",
       "├─────────────────────────────────┼────────────────────────┼───────────────┤\n",
       "│ dense (<span style=\"color: #0087ff; text-decoration-color: #0087ff\">Dense</span>)                   │ (<span style=\"color: #00d7ff; text-decoration-color: #00d7ff\">None</span>, <span style=\"color: #00af00; text-decoration-color: #00af00\">256</span>)            │     <span style=\"color: #00af00; text-decoration-color: #00af00\">3,686,656</span> │\n",
       "├─────────────────────────────────┼────────────────────────┼───────────────┤\n",
       "│ dense_1 (<span style=\"color: #0087ff; text-decoration-color: #0087ff\">Dense</span>)                 │ (<span style=\"color: #00d7ff; text-decoration-color: #00d7ff\">None</span>, <span style=\"color: #00af00; text-decoration-color: #00af00\">1</span>)              │           <span style=\"color: #00af00; text-decoration-color: #00af00\">257</span> │\n",
       "└─────────────────────────────────┴────────────────────────┴───────────────┘\n",
       "</pre>\n"
      ],
      "text/plain": [
       "┏━━━━━━━━━━━━━━━━━━━━━━━━━━━━━━━━━┳━━━━━━━━━━━━━━━━━━━━━━━━┳━━━━━━━━━━━━━━━┓\n",
       "┃\u001b[1m \u001b[0m\u001b[1mLayer (type)                   \u001b[0m\u001b[1m \u001b[0m┃\u001b[1m \u001b[0m\u001b[1mOutput Shape          \u001b[0m\u001b[1m \u001b[0m┃\u001b[1m \u001b[0m\u001b[1m      Param #\u001b[0m\u001b[1m \u001b[0m┃\n",
       "┡━━━━━━━━━━━━━━━━━━━━━━━━━━━━━━━━━╇━━━━━━━━━━━━━━━━━━━━━━━━╇━━━━━━━━━━━━━━━┩\n",
       "│ conv2d (\u001b[38;5;33mConv2D\u001b[0m)                 │ (\u001b[38;5;45mNone\u001b[0m, \u001b[38;5;34m254\u001b[0m, \u001b[38;5;34m254\u001b[0m, \u001b[38;5;34m16\u001b[0m)   │           \u001b[38;5;34m448\u001b[0m │\n",
       "├─────────────────────────────────┼────────────────────────┼───────────────┤\n",
       "│ max_pooling2d (\u001b[38;5;33mMaxPooling2D\u001b[0m)    │ (\u001b[38;5;45mNone\u001b[0m, \u001b[38;5;34m127\u001b[0m, \u001b[38;5;34m127\u001b[0m, \u001b[38;5;34m16\u001b[0m)   │             \u001b[38;5;34m0\u001b[0m │\n",
       "├─────────────────────────────────┼────────────────────────┼───────────────┤\n",
       "│ conv2d_1 (\u001b[38;5;33mConv2D\u001b[0m)               │ (\u001b[38;5;45mNone\u001b[0m, \u001b[38;5;34m125\u001b[0m, \u001b[38;5;34m125\u001b[0m, \u001b[38;5;34m16\u001b[0m)   │         \u001b[38;5;34m2,320\u001b[0m │\n",
       "├─────────────────────────────────┼────────────────────────┼───────────────┤\n",
       "│ max_pooling2d_1 (\u001b[38;5;33mMaxPooling2D\u001b[0m)  │ (\u001b[38;5;45mNone\u001b[0m, \u001b[38;5;34m62\u001b[0m, \u001b[38;5;34m62\u001b[0m, \u001b[38;5;34m16\u001b[0m)     │             \u001b[38;5;34m0\u001b[0m │\n",
       "├─────────────────────────────────┼────────────────────────┼───────────────┤\n",
       "│ conv2d_2 (\u001b[38;5;33mConv2D\u001b[0m)               │ (\u001b[38;5;45mNone\u001b[0m, \u001b[38;5;34m60\u001b[0m, \u001b[38;5;34m60\u001b[0m, \u001b[38;5;34m16\u001b[0m)     │         \u001b[38;5;34m2,320\u001b[0m │\n",
       "├─────────────────────────────────┼────────────────────────┼───────────────┤\n",
       "│ max_pooling2d_2 (\u001b[38;5;33mMaxPooling2D\u001b[0m)  │ (\u001b[38;5;45mNone\u001b[0m, \u001b[38;5;34m30\u001b[0m, \u001b[38;5;34m30\u001b[0m, \u001b[38;5;34m16\u001b[0m)     │             \u001b[38;5;34m0\u001b[0m │\n",
       "├─────────────────────────────────┼────────────────────────┼───────────────┤\n",
       "│ flatten (\u001b[38;5;33mFlatten\u001b[0m)               │ (\u001b[38;5;45mNone\u001b[0m, \u001b[38;5;34m14400\u001b[0m)          │             \u001b[38;5;34m0\u001b[0m │\n",
       "├─────────────────────────────────┼────────────────────────┼───────────────┤\n",
       "│ dense (\u001b[38;5;33mDense\u001b[0m)                   │ (\u001b[38;5;45mNone\u001b[0m, \u001b[38;5;34m256\u001b[0m)            │     \u001b[38;5;34m3,686,656\u001b[0m │\n",
       "├─────────────────────────────────┼────────────────────────┼───────────────┤\n",
       "│ dense_1 (\u001b[38;5;33mDense\u001b[0m)                 │ (\u001b[38;5;45mNone\u001b[0m, \u001b[38;5;34m1\u001b[0m)              │           \u001b[38;5;34m257\u001b[0m │\n",
       "└─────────────────────────────────┴────────────────────────┴───────────────┘\n"
      ]
     },
     "metadata": {},
     "output_type": "display_data"
    },
    {
     "data": {
      "text/html": [
       "<pre style=\"white-space:pre;overflow-x:auto;line-height:normal;font-family:Menlo,'DejaVu Sans Mono',consolas,'Courier New',monospace\"><span style=\"font-weight: bold\"> Total params: </span><span style=\"color: #00af00; text-decoration-color: #00af00\">3,692,001</span> (14.08 MB)\n",
       "</pre>\n"
      ],
      "text/plain": [
       "\u001b[1m Total params: \u001b[0m\u001b[38;5;34m3,692,001\u001b[0m (14.08 MB)\n"
      ]
     },
     "metadata": {},
     "output_type": "display_data"
    },
    {
     "data": {
      "text/html": [
       "<pre style=\"white-space:pre;overflow-x:auto;line-height:normal;font-family:Menlo,'DejaVu Sans Mono',consolas,'Courier New',monospace\"><span style=\"font-weight: bold\"> Trainable params: </span><span style=\"color: #00af00; text-decoration-color: #00af00\">3,692,001</span> (14.08 MB)\n",
       "</pre>\n"
      ],
      "text/plain": [
       "\u001b[1m Trainable params: \u001b[0m\u001b[38;5;34m3,692,001\u001b[0m (14.08 MB)\n"
      ]
     },
     "metadata": {},
     "output_type": "display_data"
    },
    {
     "data": {
      "text/html": [
       "<pre style=\"white-space:pre;overflow-x:auto;line-height:normal;font-family:Menlo,'DejaVu Sans Mono',consolas,'Courier New',monospace\"><span style=\"font-weight: bold\"> Non-trainable params: </span><span style=\"color: #00af00; text-decoration-color: #00af00\">0</span> (0.00 B)\n",
       "</pre>\n"
      ],
      "text/plain": [
       "\u001b[1m Non-trainable params: \u001b[0m\u001b[38;5;34m0\u001b[0m (0.00 B)\n"
      ]
     },
     "metadata": {},
     "output_type": "display_data"
    }
   ],
   "source": [
    "model.summary()"
   ]
  },
  {
   "cell_type": "code",
   "execution_count": 30,
   "metadata": {},
   "outputs": [],
   "source": [
    "logdir=\"logs\""
   ]
  },
  {
   "cell_type": "code",
   "execution_count": 31,
   "metadata": {},
   "outputs": [],
   "source": [
    "tensorboard_callback=tf.keras.callbacks.TensorBoard(log_dir=logdir)"
   ]
  },
  {
   "cell_type": "code",
   "execution_count": 32,
   "metadata": {},
   "outputs": [
    {
     "name": "stdout",
     "output_type": "stream",
     "text": [
      "Epoch 1/35\n",
      "\u001b[1m7/7\u001b[0m \u001b[32m━━━━━━━━━━━━━━━━━━━━\u001b[0m\u001b[37m\u001b[0m \u001b[1m7s\u001b[0m 487ms/step - accuracy: 0.5330 - loss: 0.7640 - val_accuracy: 0.5156 - val_loss: 0.7059\n",
      "Epoch 2/35\n",
      "\u001b[1m7/7\u001b[0m \u001b[32m━━━━━━━━━━━━━━━━━━━━\u001b[0m\u001b[37m\u001b[0m \u001b[1m4s\u001b[0m 468ms/step - accuracy: 0.5463 - loss: 0.6652 - val_accuracy: 0.5625 - val_loss: 0.6290\n",
      "Epoch 3/35\n",
      "\u001b[1m7/7\u001b[0m \u001b[32m━━━━━━━━━━━━━━━━━━━━\u001b[0m\u001b[37m\u001b[0m \u001b[1m4s\u001b[0m 449ms/step - accuracy: 0.6338 - loss: 0.6079 - val_accuracy: 0.6719 - val_loss: 0.5359\n",
      "Epoch 4/35\n",
      "\u001b[1m7/7\u001b[0m \u001b[32m━━━━━━━━━━━━━━━━━━━━\u001b[0m\u001b[37m\u001b[0m \u001b[1m5s\u001b[0m 536ms/step - accuracy: 0.6742 - loss: 0.6011 - val_accuracy: 0.6719 - val_loss: 0.5649\n",
      "Epoch 5/35\n",
      "\u001b[1m7/7\u001b[0m \u001b[32m━━━━━━━━━━━━━━━━━━━━\u001b[0m\u001b[37m\u001b[0m \u001b[1m5s\u001b[0m 479ms/step - accuracy: 0.7823 - loss: 0.5169 - val_accuracy: 0.7969 - val_loss: 0.4393\n",
      "Epoch 6/35\n",
      "\u001b[1m7/7\u001b[0m \u001b[32m━━━━━━━━━━━━━━━━━━━━\u001b[0m\u001b[37m\u001b[0m \u001b[1m5s\u001b[0m 472ms/step - accuracy: 0.8278 - loss: 0.4126 - val_accuracy: 0.7188 - val_loss: 0.4435\n",
      "Epoch 7/35\n",
      "\u001b[1m7/7\u001b[0m \u001b[32m━━━━━━━━━━━━━━━━━━━━\u001b[0m\u001b[37m\u001b[0m \u001b[1m5s\u001b[0m 484ms/step - accuracy: 0.8176 - loss: 0.3834 - val_accuracy: 0.9062 - val_loss: 0.3254\n",
      "Epoch 8/35\n",
      "\u001b[1m7/7\u001b[0m \u001b[32m━━━━━━━━━━━━━━━━━━━━\u001b[0m\u001b[37m\u001b[0m \u001b[1m5s\u001b[0m 492ms/step - accuracy: 0.8858 - loss: 0.3163 - val_accuracy: 0.8594 - val_loss: 0.3725\n",
      "Epoch 9/35\n",
      "\u001b[1m7/7\u001b[0m \u001b[32m━━━━━━━━━━━━━━━━━━━━\u001b[0m\u001b[37m\u001b[0m \u001b[1m5s\u001b[0m 517ms/step - accuracy: 0.8786 - loss: 0.2892 - val_accuracy: 0.9375 - val_loss: 0.1827\n",
      "Epoch 10/35\n",
      "\u001b[1m7/7\u001b[0m \u001b[32m━━━━━━━━━━━━━━━━━━━━\u001b[0m\u001b[37m\u001b[0m \u001b[1m5s\u001b[0m 471ms/step - accuracy: 0.8633 - loss: 0.2824 - val_accuracy: 0.9531 - val_loss: 0.1275\n",
      "Epoch 11/35\n",
      "\u001b[1m7/7\u001b[0m \u001b[32m━━━━━━━━━━━━━━━━━━━━\u001b[0m\u001b[37m\u001b[0m \u001b[1m5s\u001b[0m 535ms/step - accuracy: 0.9544 - loss: 0.1589 - val_accuracy: 1.0000 - val_loss: 0.0825\n",
      "Epoch 12/35\n",
      "\u001b[1m7/7\u001b[0m \u001b[32m━━━━━━━━━━━━━━━━━━━━\u001b[0m\u001b[37m\u001b[0m \u001b[1m6s\u001b[0m 590ms/step - accuracy: 0.9706 - loss: 0.1059 - val_accuracy: 0.9844 - val_loss: 0.0906\n",
      "Epoch 13/35\n",
      "\u001b[1m7/7\u001b[0m \u001b[32m━━━━━━━━━━━━━━━━━━━━\u001b[0m\u001b[37m\u001b[0m \u001b[1m6s\u001b[0m 581ms/step - accuracy: 0.9657 - loss: 0.1077 - val_accuracy: 0.9844 - val_loss: 0.0571\n",
      "Epoch 14/35\n",
      "\u001b[1m7/7\u001b[0m \u001b[32m━━━━━━━━━━━━━━━━━━━━\u001b[0m\u001b[37m\u001b[0m \u001b[1m5s\u001b[0m 481ms/step - accuracy: 0.9617 - loss: 0.1354 - val_accuracy: 0.9688 - val_loss: 0.1191\n",
      "Epoch 15/35\n",
      "\u001b[1m7/7\u001b[0m \u001b[32m━━━━━━━━━━━━━━━━━━━━\u001b[0m\u001b[37m\u001b[0m \u001b[1m5s\u001b[0m 454ms/step - accuracy: 0.9851 - loss: 0.0915 - val_accuracy: 1.0000 - val_loss: 0.0382\n",
      "Epoch 16/35\n",
      "\u001b[1m7/7\u001b[0m \u001b[32m━━━━━━━━━━━━━━━━━━━━\u001b[0m\u001b[37m\u001b[0m \u001b[1m5s\u001b[0m 454ms/step - accuracy: 0.9896 - loss: 0.0499 - val_accuracy: 1.0000 - val_loss: 0.0384\n",
      "Epoch 17/35\n",
      "\u001b[1m7/7\u001b[0m \u001b[32m━━━━━━━━━━━━━━━━━━━━\u001b[0m\u001b[37m\u001b[0m \u001b[1m4s\u001b[0m 450ms/step - accuracy: 0.9722 - loss: 0.1093 - val_accuracy: 0.9844 - val_loss: 0.0515\n",
      "Epoch 18/35\n",
      "\u001b[1m7/7\u001b[0m \u001b[32m━━━━━━━━━━━━━━━━━━━━\u001b[0m\u001b[37m\u001b[0m \u001b[1m5s\u001b[0m 458ms/step - accuracy: 0.9866 - loss: 0.0556 - val_accuracy: 0.9844 - val_loss: 0.0368\n",
      "Epoch 19/35\n",
      "\u001b[1m7/7\u001b[0m \u001b[32m━━━━━━━━━━━━━━━━━━━━\u001b[0m\u001b[37m\u001b[0m \u001b[1m4s\u001b[0m 457ms/step - accuracy: 0.9899 - loss: 0.0415 - val_accuracy: 0.9844 - val_loss: 0.0386\n",
      "Epoch 20/35\n",
      "\u001b[1m7/7\u001b[0m \u001b[32m━━━━━━━━━━━━━━━━━━━━\u001b[0m\u001b[37m\u001b[0m \u001b[1m4s\u001b[0m 453ms/step - accuracy: 0.9827 - loss: 0.0467 - val_accuracy: 1.0000 - val_loss: 0.0255\n",
      "Epoch 21/35\n",
      "\u001b[1m7/7\u001b[0m \u001b[32m━━━━━━━━━━━━━━━━━━━━\u001b[0m\u001b[37m\u001b[0m \u001b[1m4s\u001b[0m 450ms/step - accuracy: 0.9794 - loss: 0.1063 - val_accuracy: 0.9844 - val_loss: 0.0545\n",
      "Epoch 22/35\n",
      "\u001b[1m7/7\u001b[0m \u001b[32m━━━━━━━━━━━━━━━━━━━━\u001b[0m\u001b[37m\u001b[0m \u001b[1m4s\u001b[0m 458ms/step - accuracy: 0.9907 - loss: 0.0718 - val_accuracy: 1.0000 - val_loss: 0.0355\n",
      "Epoch 23/35\n",
      "\u001b[1m7/7\u001b[0m \u001b[32m━━━━━━━━━━━━━━━━━━━━\u001b[0m\u001b[37m\u001b[0m \u001b[1m4s\u001b[0m 447ms/step - accuracy: 0.9934 - loss: 0.0458 - val_accuracy: 1.0000 - val_loss: 0.0329\n",
      "Epoch 24/35\n",
      "\u001b[1m7/7\u001b[0m \u001b[32m━━━━━━━━━━━━━━━━━━━━\u001b[0m\u001b[37m\u001b[0m \u001b[1m4s\u001b[0m 459ms/step - accuracy: 0.9858 - loss: 0.0500 - val_accuracy: 1.0000 - val_loss: 0.0228\n",
      "Epoch 25/35\n",
      "\u001b[1m7/7\u001b[0m \u001b[32m━━━━━━━━━━━━━━━━━━━━\u001b[0m\u001b[37m\u001b[0m \u001b[1m4s\u001b[0m 454ms/step - accuracy: 0.9975 - loss: 0.0197 - val_accuracy: 1.0000 - val_loss: 0.0041\n",
      "Epoch 26/35\n",
      "\u001b[1m7/7\u001b[0m \u001b[32m━━━━━━━━━━━━━━━━━━━━\u001b[0m\u001b[37m\u001b[0m \u001b[1m5s\u001b[0m 466ms/step - accuracy: 0.9679 - loss: 0.0912 - val_accuracy: 0.9688 - val_loss: 0.0869\n",
      "Epoch 27/35\n",
      "\u001b[1m7/7\u001b[0m \u001b[32m━━━━━━━━━━━━━━━━━━━━\u001b[0m\u001b[37m\u001b[0m \u001b[1m5s\u001b[0m 467ms/step - accuracy: 0.9839 - loss: 0.0347 - val_accuracy: 0.9844 - val_loss: 0.0510\n",
      "Epoch 28/35\n",
      "\u001b[1m7/7\u001b[0m \u001b[32m━━━━━━━━━━━━━━━━━━━━\u001b[0m\u001b[37m\u001b[0m \u001b[1m4s\u001b[0m 455ms/step - accuracy: 0.9971 - loss: 0.0160 - val_accuracy: 0.9844 - val_loss: 0.0214\n",
      "Epoch 29/35\n",
      "\u001b[1m7/7\u001b[0m \u001b[32m━━━━━━━━━━━━━━━━━━━━\u001b[0m\u001b[37m\u001b[0m \u001b[1m4s\u001b[0m 444ms/step - accuracy: 0.9939 - loss: 0.0209 - val_accuracy: 1.0000 - val_loss: 0.0089\n",
      "Epoch 30/35\n",
      "\u001b[1m7/7\u001b[0m \u001b[32m━━━━━━━━━━━━━━━━━━━━\u001b[0m\u001b[37m\u001b[0m \u001b[1m5s\u001b[0m 463ms/step - accuracy: 0.9881 - loss: 0.0201 - val_accuracy: 1.0000 - val_loss: 0.0050\n",
      "Epoch 31/35\n",
      "\u001b[1m7/7\u001b[0m \u001b[32m━━━━━━━━━━━━━━━━━━━━\u001b[0m\u001b[37m\u001b[0m \u001b[1m4s\u001b[0m 452ms/step - accuracy: 0.9750 - loss: 0.0619 - val_accuracy: 1.0000 - val_loss: 0.0066\n",
      "Epoch 32/35\n",
      "\u001b[1m7/7\u001b[0m \u001b[32m━━━━━━━━━━━━━━━━━━━━\u001b[0m\u001b[37m\u001b[0m \u001b[1m4s\u001b[0m 458ms/step - accuracy: 0.9957 - loss: 0.0254 - val_accuracy: 1.0000 - val_loss: 0.0118\n",
      "Epoch 33/35\n",
      "\u001b[1m7/7\u001b[0m \u001b[32m━━━━━━━━━━━━━━━━━━━━\u001b[0m\u001b[37m\u001b[0m \u001b[1m4s\u001b[0m 455ms/step - accuracy: 0.9930 - loss: 0.0215 - val_accuracy: 1.0000 - val_loss: 0.0170\n",
      "Epoch 34/35\n",
      "\u001b[1m7/7\u001b[0m \u001b[32m━━━━━━━━━━━━━━━━━━━━\u001b[0m\u001b[37m\u001b[0m \u001b[1m4s\u001b[0m 460ms/step - accuracy: 0.9813 - loss: 0.0460 - val_accuracy: 1.0000 - val_loss: 0.0157\n",
      "Epoch 35/35\n",
      "\u001b[1m7/7\u001b[0m \u001b[32m━━━━━━━━━━━━━━━━━━━━\u001b[0m\u001b[37m\u001b[0m \u001b[1m4s\u001b[0m 452ms/step - accuracy: 0.9932 - loss: 0.0224 - val_accuracy: 0.9688 - val_loss: 0.0478\n"
     ]
    }
   ],
   "source": [
    "hist=model.fit(train,epochs=35,validation_data=val,callbacks=[tensorboard_callback])"
   ]
  },
  {
   "cell_type": "code",
   "execution_count": 33,
   "metadata": {},
   "outputs": [
    {
     "data": {
      "text/plain": [
       "{'accuracy': [0.5401785969734192,\n",
       "  0.5669642686843872,\n",
       "  0.6383928656578064,\n",
       "  0.6830357313156128,\n",
       "  0.7857142686843872,\n",
       "  0.8080357313156128,\n",
       "  0.8080357313156128,\n",
       "  0.8616071343421936,\n",
       "  0.8928571343421936,\n",
       "  0.875,\n",
       "  0.9598214030265808,\n",
       "  0.9642857313156128,\n",
       "  0.9553571343421936,\n",
       "  0.9598214030265808,\n",
       "  0.9732142686843872,\n",
       "  0.9821428656578064,\n",
       "  0.9821428656578064,\n",
       "  0.9866071343421936,\n",
       "  0.9776785969734192,\n",
       "  0.9866071343421936,\n",
       "  0.9776785969734192,\n",
       "  0.9821428656578064,\n",
       "  0.9910714030265808,\n",
       "  0.9910714030265808,\n",
       "  0.9955357313156128,\n",
       "  0.9866071343421936,\n",
       "  0.9821428656578064,\n",
       "  0.9910714030265808,\n",
       "  0.9910714030265808,\n",
       "  0.9866071343421936,\n",
       "  0.9776785969734192,\n",
       "  0.9910714030265808,\n",
       "  0.9910714030265808,\n",
       "  0.9821428656578064,\n",
       "  0.9955357313156128],\n",
       " 'loss': [0.7598479390144348,\n",
       "  0.6626787185668945,\n",
       "  0.6015914082527161,\n",
       "  0.5854426622390747,\n",
       "  0.516626238822937,\n",
       "  0.42998477816581726,\n",
       "  0.38227444887161255,\n",
       "  0.31677135825157166,\n",
       "  0.26117897033691406,\n",
       "  0.28096023201942444,\n",
       "  0.1455458253622055,\n",
       "  0.1359325498342514,\n",
       "  0.12726595997810364,\n",
       "  0.127676323056221,\n",
       "  0.09284047782421112,\n",
       "  0.06169620156288147,\n",
       "  0.06938830763101578,\n",
       "  0.061718739569187164,\n",
       "  0.061359964311122894,\n",
       "  0.04186660796403885,\n",
       "  0.10090994089841843,\n",
       "  0.08937781304121017,\n",
       "  0.04506726935505867,\n",
       "  0.034067802131175995,\n",
       "  0.0261183213442564,\n",
       "  0.049161396920681,\n",
       "  0.04960164800286293,\n",
       "  0.028166083618998528,\n",
       "  0.02813580259680748,\n",
       "  0.021825870499014854,\n",
       "  0.056594524532556534,\n",
       "  0.04336152598261833,\n",
       "  0.02642218954861164,\n",
       "  0.04081868380308151,\n",
       "  0.015292235650122166],\n",
       " 'val_accuracy': [0.515625,\n",
       "  0.5625,\n",
       "  0.671875,\n",
       "  0.671875,\n",
       "  0.796875,\n",
       "  0.71875,\n",
       "  0.90625,\n",
       "  0.859375,\n",
       "  0.9375,\n",
       "  0.953125,\n",
       "  1.0,\n",
       "  0.984375,\n",
       "  0.984375,\n",
       "  0.96875,\n",
       "  1.0,\n",
       "  1.0,\n",
       "  0.984375,\n",
       "  0.984375,\n",
       "  0.984375,\n",
       "  1.0,\n",
       "  0.984375,\n",
       "  1.0,\n",
       "  1.0,\n",
       "  1.0,\n",
       "  1.0,\n",
       "  0.96875,\n",
       "  0.984375,\n",
       "  0.984375,\n",
       "  1.0,\n",
       "  1.0,\n",
       "  1.0,\n",
       "  1.0,\n",
       "  1.0,\n",
       "  1.0,\n",
       "  0.96875],\n",
       " 'val_loss': [0.7058807611465454,\n",
       "  0.6289738416671753,\n",
       "  0.535920262336731,\n",
       "  0.5648808479309082,\n",
       "  0.43928462266921997,\n",
       "  0.44345661997795105,\n",
       "  0.3254258632659912,\n",
       "  0.37247151136398315,\n",
       "  0.1827448606491089,\n",
       "  0.12748084962368011,\n",
       "  0.08247371017932892,\n",
       "  0.0905596911907196,\n",
       "  0.0571134053170681,\n",
       "  0.11913898587226868,\n",
       "  0.03815346583724022,\n",
       "  0.03836343437433243,\n",
       "  0.05150860920548439,\n",
       "  0.03681009262800217,\n",
       "  0.03855180740356445,\n",
       "  0.025494340807199478,\n",
       "  0.054483428597450256,\n",
       "  0.03549538180232048,\n",
       "  0.03290734812617302,\n",
       "  0.022841501981019974,\n",
       "  0.004073548596352339,\n",
       "  0.08692476898431778,\n",
       "  0.050993047654628754,\n",
       "  0.021400049328804016,\n",
       "  0.00892455130815506,\n",
       "  0.004996395204216242,\n",
       "  0.0065556797198951244,\n",
       "  0.011838397942483425,\n",
       "  0.017009487375617027,\n",
       "  0.015676314011216164,\n",
       "  0.04780486226081848]}"
      ]
     },
     "execution_count": 33,
     "metadata": {},
     "output_type": "execute_result"
    }
   ],
   "source": [
    "hist.history"
   ]
  },
  {
   "cell_type": "code",
   "execution_count": 34,
   "metadata": {},
   "outputs": [
    {
     "data": {
      "text/plain": [
       "[<matplotlib.lines.Line2D at 0x268e8e7eb60>]"
      ]
     },
     "execution_count": 34,
     "metadata": {},
     "output_type": "execute_result"
    }
   ],
   "source": [
    "plt.plot(hist.history[\"loss\"],color=\"red\",label=\"loss\")\n",
    "plt.plot(hist.history['val_loss'],color=\"yellow\",label=\"val_loss\")"
   ]
  },
  {
   "cell_type": "code",
   "execution_count": 35,
   "metadata": {},
   "outputs": [
    {
     "data": {
      "text/plain": [
       "<matplotlib.image.AxesImage at 0x268e8e7f340>"
      ]
     },
     "execution_count": 35,
     "metadata": {},
     "output_type": "execute_result"
    }
   ],
   "source": [
    "d=s_data.as_numpy_iterator().next()\n",
    "all_items = [item for item in d]\n",
    "items = [list(row) for row in zip(*all_items)]\n",
    "cv2.imshow(\"im\",items[0][0])\n",
    "cv2.waitKey(0)\n",
    "cv2.destroyAllWindows()\n",
    "plt.imshow(items[1][0])"
   ]
  },
  {
   "cell_type": "code",
   "execution_count": 36,
   "metadata": {},
   "outputs": [
    {
     "name": "stdout",
     "output_type": "stream",
     "text": [
      "\u001b[1m1/1\u001b[0m \u001b[32m━━━━━━━━━━━━━━━━━━━━\u001b[0m\u001b[37m\u001b[0m \u001b[1m0s\u001b[0m 131ms/step\n"
     ]
    },
    {
     "data": {
      "text/plain": [
       "array([[0.99816865]], dtype=float32)"
      ]
     },
     "execution_count": 36,
     "metadata": {},
     "output_type": "execute_result"
    }
   ],
   "source": [
    "i=items[13][0]\n",
    "model.predict(np.expand_dims(i/255,0))\n"
   ]
  },
  {
   "cell_type": "code",
   "execution_count": 37,
   "metadata": {},
   "outputs": [
    {
     "data": {
      "text/plain": [
       "0"
      ]
     },
     "execution_count": 37,
     "metadata": {},
     "output_type": "execute_result"
    }
   ],
   "source": [
    "items[13][1]"
   ]
  },
  {
   "cell_type": "code",
   "execution_count": 38,
   "metadata": {},
   "outputs": [
    {
     "data": {
      "text/plain": [
       "<matplotlib.image.AxesImage at 0x268e8e7fc70>"
      ]
     },
     "execution_count": 38,
     "metadata": {},
     "output_type": "execute_result"
    }
   ],
   "source": [
    "plt.imshow(i)"
   ]
  },
  {
   "cell_type": "code",
   "execution_count": 39,
   "metadata": {},
   "outputs": [
    {
     "data": {
      "text/plain": [
       "32"
      ]
     },
     "execution_count": 39,
     "metadata": {},
     "output_type": "execute_result"
    }
   ],
   "source": [
    "len(items)"
   ]
  },
  {
   "cell_type": "code",
   "execution_count": 40,
   "metadata": {},
   "outputs": [],
   "source": [
    "from tensorflow.keras.metrics import Precision,Recall,BinaryAccuracy"
   ]
  },
  {
   "cell_type": "code",
   "execution_count": 41,
   "metadata": {},
   "outputs": [],
   "source": [
    "pre=Precision()\n",
    "re=Recall()\n",
    "acc=BinaryAccuracy()"
   ]
  },
  {
   "cell_type": "code",
   "execution_count": 42,
   "metadata": {},
   "outputs": [
    {
     "name": "stdout",
     "output_type": "stream",
     "text": [
      "\u001b[1m1/1\u001b[0m \u001b[32m━━━━━━━━━━━━━━━━━━━━\u001b[0m\u001b[37m\u001b[0m \u001b[1m0s\u001b[0m 96ms/step\n",
      "yes [0.00070362]\n",
      "[0 0 1 0 1 0 0 1 0 0 0 1 0 0 1 1 0 1 0 0 1 0 0 0 1 0 1 0 1 1 0 0] [[7.0361933e-04]\n",
      " [7.1341597e-04]\n",
      " [9.9999994e-01]\n",
      " [2.7719815e-03]\n",
      " [1.0000000e+00]\n",
      " [1.2246455e-03]\n",
      " [1.8422017e-03]\n",
      " [9.9918032e-01]\n",
      " [7.0286205e-04]\n",
      " [3.5813167e-03]\n",
      " [5.9719408e-05]\n",
      " [9.9945039e-01]\n",
      " [1.4147344e-02]\n",
      " [7.6372535e-03]\n",
      " [9.9911648e-01]\n",
      " [9.9994743e-01]\n",
      " [1.4689673e-02]\n",
      " [9.9467009e-01]\n",
      " [4.7719432e-04]\n",
      " [1.4150417e-02]\n",
      " [9.9988705e-01]\n",
      " [2.9002414e-03]\n",
      " [6.6762447e-01]\n",
      " [7.2853621e-03]\n",
      " [9.9758077e-01]\n",
      " [1.8831224e-05]\n",
      " [9.9998468e-01]\n",
      " [3.8543000e-04]\n",
      " [9.9980706e-01]\n",
      " [9.9899203e-01]\n",
      " [5.4879900e-04]\n",
      " [2.6670804e-03]]\n"
     ]
    }
   ],
   "source": [
    "for batch in test.as_numpy_iterator():\n",
    "    X,y=batch\n",
    "    yhat=model.predict(X)\n",
    "    if yhat[0]<0.5:\n",
    "        print(\"yes\",yhat[0])\n",
    "    else:\n",
    "        print(\"no\",yhat[0])\n",
    "    print(y,yhat)\n",
    "    pre.update_state(y,yhat)\n",
    "    re.update_state(y,yhat)\n",
    "    acc.update_state(y,yhat)"
   ]
  },
  {
   "cell_type": "code",
   "execution_count": 43,
   "metadata": {},
   "outputs": [
    {
     "name": "stdout",
     "output_type": "stream",
     "text": [
      "0.9230769 1.0 0.96875\n"
     ]
    }
   ],
   "source": [
    "print(pre.result().numpy(),re.result().numpy(),acc.result().numpy())"
   ]
  },
  {
   "cell_type": "code",
   "execution_count": 44,
   "metadata": {},
   "outputs": [
    {
     "name": "stdout",
     "output_type": "stream",
     "text": [
      "\u001b[1m1/1\u001b[0m \u001b[32m━━━━━━━━━━━━━━━━━━━━\u001b[0m\u001b[37m\u001b[0m \u001b[1m0s\u001b[0m 26ms/step\n"
     ]
    },
    {
     "data": {
      "text/plain": [
       "array([[0.99816865]], dtype=float32)"
      ]
     },
     "execution_count": 44,
     "metadata": {},
     "output_type": "execute_result"
    }
   ],
   "source": [
    "model.predict(np.expand_dims(i/255,0))"
   ]
  },
  {
   "cell_type": "code",
   "execution_count": 45,
   "metadata": {},
   "outputs": [
    {
     "name": "stdout",
     "output_type": "stream",
     "text": [
      "(201, 251, 3)\n",
      "(256, 256, 3)\n"
     ]
    },
    {
     "data": {
      "text/plain": [
       "<matplotlib.image.AxesImage at 0x268e8f11690>"
      ]
     },
     "execution_count": 45,
     "metadata": {},
     "output_type": "execute_result"
    }
   ],
   "source": [
    "im=cv2.imread(r\"images (7).jpeg\")\n",
    "imr=tf.image.resize(im,(256,256))\n",
    "print(im.shape)\n",
    "plt.imshow(im)\n",
    "print(imr.shape)\n",
    "plt.imshow(imr.numpy().astype(int))"
   ]
  },
  {
   "cell_type": "code",
   "execution_count": 46,
   "metadata": {},
   "outputs": [
    {
     "name": "stdout",
     "output_type": "stream",
     "text": [
      "\u001b[1m1/1\u001b[0m \u001b[32m━━━━━━━━━━━━━━━━━━━━\u001b[0m\u001b[37m\u001b[0m \u001b[1m0s\u001b[0m 67ms/step\n"
     ]
    }
   ],
   "source": [
    "yh=model.predict(np.expand_dims(imr/255,0))"
   ]
  },
  {
   "cell_type": "code",
   "execution_count": 47,
   "metadata": {},
   "outputs": [
    {
     "data": {
      "text/plain": [
       "array([[0.9995766]], dtype=float32)"
      ]
     },
     "execution_count": 47,
     "metadata": {},
     "output_type": "execute_result"
    }
   ],
   "source": []
  },
  {
   "cell_type": "code",
   "execution_count": 51,
   "metadata": {},
   "outputs": [],
   "source": []
  },
  {
   "cell_type": "code",
   "execution_count": null,
   "metadata": {},
   "outputs": [],
   "source": []
  },
  {
   "cell_type": "code",
   "execution_count": null,
   "metadata": {},
   "outputs": [],
   "source": []
  }
 ],
 "metadata": {
  "kernelspec": {
   "display_name": "Python 3",
   "language": "python",
   "name": "python3"
  },
  "language_info": {
   "codemirror_mode": {
    "name": "ipython",
    "version": 3
   },
   "file_extension": ".py",
   "mimetype": "text/x-python",
   "name": "python",
   "nbconvert_exporter": "python",
   "pygments_lexer": "ipython3",
   "version": "3.10.10"
  }
 },
 "nbformat": 4,
 "nbformat_minor": 2
}
